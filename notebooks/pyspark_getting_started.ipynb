{
 "cells": [
  {
   "cell_type": "code",
   "execution_count": 67,
   "metadata": {},
   "outputs": [],
   "source": [
    "import pyspark\n",
    "import pyspark.sql.functions as F\n",
    "from pyspark.sql import SparkSession\n",
    "import pandas as pd\n",
    "import seaborn as sns"
   ]
  },
  {
   "cell_type": "code",
   "execution_count": 68,
   "metadata": {},
   "outputs": [],
   "source": [
    "# initialize sparksession\n",
    "spark = SparkSession.builder.appName('EXAMPLE_APP').getOrCreate()"
   ]
  },
  {
   "cell_type": "code",
   "execution_count": 69,
   "metadata": {},
   "outputs": [],
   "source": [
    "\"\"\"\"\n",
    "Create a dataset in PySpark with 10 rows and columns dummy_patient: integer, dummy_diag: string, dummy_date: date, dummy_time: HH:MM:SS and dumy_data_source,F.lit( 'dummy_dataset_1')\n",
    "\"\"\"\n",
    "\n",
    "# Create a dataframe with 10 rows and 5 columns\n",
    "df_1 = spark.createDataFrame(\n",
    "    [(1, 'A', '2020-01-01', '00:00:00', 'dummy_dataset_1'),\n",
    "     (2, 'B', '2020-01-02', '00:00:00', 'dummy_dataset_1'),\n",
    "     (3, 'C', '2020-01-03', '00:00:00', 'dummy_dataset_1'),\n",
    "     (4, 'D', '2020-01-04', '00:00:00', 'dummy_dataset_1'),\n",
    "     (5, 'E', '2020-01-05', '00:00:00', 'dummy_dataset_1'),\n",
    "     (6, 'F', '2020-01-06', '00:00:00', 'dummy_dataset_1'),\n",
    "     (7, 'G', '2020-01-07', '00:00:00', 'dummy_dataset_1'),\n",
    "     (8, 'H', '2020-01-08', '00:00:00', 'dummy_dataset_1'),\n",
    "     (9, 'I', '2020-01-09', '00:00:00', 'dummy_dataset_1'),\n",
    "     (10, 'J', '2020-01-10', '00:00:00', 'dummy_dataset_1')],\n",
    "    ['dummy_patient', 'dummy_diag', 'dummy_date_1', 'dummy_time_1', 'dummy_data_source']\n",
    ")\n",
    "\n",
    "\"\"\"\"\n",
    "Create a dataset in PySpark with 10 rows and columns dummy_patient: integer, dummy_len_of_stay: string, dummy_admi_sorc: data,dummy_date: date, dummy_time: HH:MM:SS and dumy_data_source,F.lit( 'dummy_dataset_2')\n",
    "\"\"\"\n",
    "\n",
    "# Create a dataframe with 10 rows and 6 columns\n",
    "df_2 = spark.createDataFrame(\n",
    "    [(1, 9, 'A', '2020-01-01', '00:00:00', 'dummy_dataset_2'),\n",
    "     (2, 7,'B', '2020-01-02', '00:00:00', 'dummy_dataset_2'),\n",
    "     (3, 4,'C', '2020-01-03', '00:00:00', 'dummy_dataset_2'),\n",
    "     (4, 10,'D', '2020-01-04', '00:00:00', 'dummy_dataset_2'),\n",
    "     (5, 45,'E', '2020-01-05', '00:00:00', 'dummy_dataset_2'),\n",
    "     (6, 17,'F', '2020-01-06', '00:00:00', 'dummy_dataset_2'),\n",
    "     (7, 11, 'G', '2020-01-07', '00:00:00', 'dummy_dataset_2'),\n",
    "     (8, 23,'H', '2020-01-08', '00:00:00', 'dummy_dataset_2'),\n",
    "     (9, 31,'I', '2020-01-09', '00:00:00', 'dummy_dataset_2'),\n",
    "     (10,20, 'J', '2020-01-10', '00:00:00', 'dummy_dataset_2')],\n",
    "    ['dummy_patient', 'dummy_len_of_stay', 'dummy_admi_sorc', 'dummy_date_2', 'dummy_time_2', 'dummy_data_source']\n",
    ")"
   ]
  },
  {
   "cell_type": "code",
   "execution_count": 70,
   "metadata": {},
   "outputs": [
    {
     "name": "stdout",
     "output_type": "stream",
     "text": [
      "+-------------+----------+------------+------------+-----------------+-----------------+---------------+------------+------------+-----------------+\n",
      "|dummy_patient|dummy_diag|dummy_date_1|dummy_time_1|dummy_data_source|dummy_len_of_stay|dummy_admi_sorc|dummy_date_2|dummy_time_2|dummy_data_source|\n",
      "+-------------+----------+------------+------------+-----------------+-----------------+---------------+------------+------------+-----------------+\n",
      "|            1|         A|  2020-01-01|    00:00:00|  dummy_dataset_1|                9|              A|  2020-01-01|    00:00:00|  dummy_dataset_2|\n",
      "|            2|         B|  2020-01-02|    00:00:00|  dummy_dataset_1|                7|              B|  2020-01-02|    00:00:00|  dummy_dataset_2|\n",
      "|            3|         C|  2020-01-03|    00:00:00|  dummy_dataset_1|                4|              C|  2020-01-03|    00:00:00|  dummy_dataset_2|\n",
      "|            4|         D|  2020-01-04|    00:00:00|  dummy_dataset_1|               10|              D|  2020-01-04|    00:00:00|  dummy_dataset_2|\n",
      "|            5|         E|  2020-01-05|    00:00:00|  dummy_dataset_1|               45|              E|  2020-01-05|    00:00:00|  dummy_dataset_2|\n",
      "+-------------+----------+------------+------------+-----------------+-----------------+---------------+------------+------------+-----------------+\n",
      "only showing top 5 rows\n",
      "\n"
     ]
    }
   ],
   "source": [
    "\"\"\"\n",
    "Using a PySpark, Join the last two datasets together on dummy_patient.\n",
    "\"\"\"\n",
    "\n",
    "# Join the two dataframes together on dummy_patient\n",
    "df = df_1.join(df_2, on='dummy_patient')\n",
    "\n",
    "df.show(5)\n"
   ]
  },
  {
   "cell_type": "code",
   "execution_count": 71,
   "metadata": {},
   "outputs": [
    {
     "name": "stdout",
     "output_type": "stream",
     "text": [
      "+-------+------------------+----------+------------+------------+-----------------+------------------+---------------+------------+------------+-----------------+\n",
      "|summary|     dummy_patient|dummy_diag|dummy_date_1|dummy_time_1|dummy_data_source| dummy_len_of_stay|dummy_admi_sorc|dummy_date_2|dummy_time_2|dummy_data_source|\n",
      "+-------+------------------+----------+------------+------------+-----------------+------------------+---------------+------------+------------+-----------------+\n",
      "|  count|                10|        10|          10|          10|               10|                10|             10|          10|          10|               10|\n",
      "|   mean|               5.5|      null|        null|        null|             null|              17.7|           null|        null|        null|             null|\n",
      "| stddev|3.0276503540974917|      null|        null|        null|             null|12.640762986817247|           null|        null|        null|             null|\n",
      "|    min|                 1|         A|  2020-01-01|    00:00:00|  dummy_dataset_1|                 4|              A|  2020-01-01|    00:00:00|  dummy_dataset_2|\n",
      "|    max|                10|         J|  2020-01-10|    00:00:00|  dummy_dataset_1|                45|              J|  2020-01-10|    00:00:00|  dummy_dataset_2|\n",
      "+-------+------------------+----------+------------+------------+-----------------+------------------+---------------+------------+------------+-----------------+\n",
      "\n"
     ]
    }
   ],
   "source": [
    "\"\"\"\n",
    "Using a PySpark, calculate summary statistics.\n",
    "\"\"\"\n",
    "\n",
    "# Calculate summary statistics\n",
    "df.describe().show()"
   ]
  },
  {
   "cell_type": "code",
   "execution_count": 72,
   "metadata": {},
   "outputs": [],
   "source": [
    "\"\"\"\n",
    "Convert df to a pandas dataframe and plot a graph using seaborn with x= 'dummy_date' and y = 'dummy_len_of_stay', hue = 'dummy_admi_sorc'.\n",
    "\"\"\"\n",
    "\n",
    "# Convert df to a pandas dataframe\n",
    "df_pandas = df.toPandas()\n"
   ]
  },
  {
   "cell_type": "code",
   "execution_count": 73,
   "metadata": {},
   "outputs": [
    {
     "data": {
      "text/html": [
       "<div>\n",
       "<style scoped>\n",
       "    .dataframe tbody tr th:only-of-type {\n",
       "        vertical-align: middle;\n",
       "    }\n",
       "\n",
       "    .dataframe tbody tr th {\n",
       "        vertical-align: top;\n",
       "    }\n",
       "\n",
       "    .dataframe thead th {\n",
       "        text-align: right;\n",
       "    }\n",
       "</style>\n",
       "<table border=\"1\" class=\"dataframe\">\n",
       "  <thead>\n",
       "    <tr style=\"text-align: right;\">\n",
       "      <th></th>\n",
       "      <th>dummy_patient</th>\n",
       "      <th>dummy_diag</th>\n",
       "      <th>dummy_date_1</th>\n",
       "      <th>dummy_time_1</th>\n",
       "      <th>dummy_data_source</th>\n",
       "      <th>dummy_len_of_stay</th>\n",
       "      <th>dummy_admi_sorc</th>\n",
       "      <th>dummy_date_2</th>\n",
       "      <th>dummy_time_2</th>\n",
       "      <th>dummy_data_source</th>\n",
       "    </tr>\n",
       "  </thead>\n",
       "  <tbody>\n",
       "    <tr>\n",
       "      <th>0</th>\n",
       "      <td>1</td>\n",
       "      <td>A</td>\n",
       "      <td>2020-01-01</td>\n",
       "      <td>00:00:00</td>\n",
       "      <td>dummy_dataset_1</td>\n",
       "      <td>9</td>\n",
       "      <td>A</td>\n",
       "      <td>2020-01-01</td>\n",
       "      <td>00:00:00</td>\n",
       "      <td>dummy_dataset_2</td>\n",
       "    </tr>\n",
       "    <tr>\n",
       "      <th>1</th>\n",
       "      <td>2</td>\n",
       "      <td>B</td>\n",
       "      <td>2020-01-02</td>\n",
       "      <td>00:00:00</td>\n",
       "      <td>dummy_dataset_1</td>\n",
       "      <td>7</td>\n",
       "      <td>B</td>\n",
       "      <td>2020-01-02</td>\n",
       "      <td>00:00:00</td>\n",
       "      <td>dummy_dataset_2</td>\n",
       "    </tr>\n",
       "    <tr>\n",
       "      <th>2</th>\n",
       "      <td>3</td>\n",
       "      <td>C</td>\n",
       "      <td>2020-01-03</td>\n",
       "      <td>00:00:00</td>\n",
       "      <td>dummy_dataset_1</td>\n",
       "      <td>4</td>\n",
       "      <td>C</td>\n",
       "      <td>2020-01-03</td>\n",
       "      <td>00:00:00</td>\n",
       "      <td>dummy_dataset_2</td>\n",
       "    </tr>\n",
       "    <tr>\n",
       "      <th>3</th>\n",
       "      <td>4</td>\n",
       "      <td>D</td>\n",
       "      <td>2020-01-04</td>\n",
       "      <td>00:00:00</td>\n",
       "      <td>dummy_dataset_1</td>\n",
       "      <td>10</td>\n",
       "      <td>D</td>\n",
       "      <td>2020-01-04</td>\n",
       "      <td>00:00:00</td>\n",
       "      <td>dummy_dataset_2</td>\n",
       "    </tr>\n",
       "    <tr>\n",
       "      <th>4</th>\n",
       "      <td>5</td>\n",
       "      <td>E</td>\n",
       "      <td>2020-01-05</td>\n",
       "      <td>00:00:00</td>\n",
       "      <td>dummy_dataset_1</td>\n",
       "      <td>45</td>\n",
       "      <td>E</td>\n",
       "      <td>2020-01-05</td>\n",
       "      <td>00:00:00</td>\n",
       "      <td>dummy_dataset_2</td>\n",
       "    </tr>\n",
       "  </tbody>\n",
       "</table>\n",
       "</div>"
      ],
      "text/plain": [
       "   dummy_patient dummy_diag dummy_date_1 dummy_time_1 dummy_data_source  \\\n",
       "0              1          A   2020-01-01     00:00:00   dummy_dataset_1   \n",
       "1              2          B   2020-01-02     00:00:00   dummy_dataset_1   \n",
       "2              3          C   2020-01-03     00:00:00   dummy_dataset_1   \n",
       "3              4          D   2020-01-04     00:00:00   dummy_dataset_1   \n",
       "4              5          E   2020-01-05     00:00:00   dummy_dataset_1   \n",
       "\n",
       "   dummy_len_of_stay dummy_admi_sorc dummy_date_2 dummy_time_2  \\\n",
       "0                  9               A   2020-01-01     00:00:00   \n",
       "1                  7               B   2020-01-02     00:00:00   \n",
       "2                  4               C   2020-01-03     00:00:00   \n",
       "3                 10               D   2020-01-04     00:00:00   \n",
       "4                 45               E   2020-01-05     00:00:00   \n",
       "\n",
       "  dummy_data_source  \n",
       "0   dummy_dataset_2  \n",
       "1   dummy_dataset_2  \n",
       "2   dummy_dataset_2  \n",
       "3   dummy_dataset_2  \n",
       "4   dummy_dataset_2  "
      ]
     },
     "execution_count": 73,
     "metadata": {},
     "output_type": "execute_result"
    }
   ],
   "source": [
    "df_pandas.head()"
   ]
  },
  {
   "cell_type": "code",
   "execution_count": 74,
   "metadata": {},
   "outputs": [
    {
     "data": {
      "text/html": [
       "<div>\n",
       "<style scoped>\n",
       "    .dataframe tbody tr th:only-of-type {\n",
       "        vertical-align: middle;\n",
       "    }\n",
       "\n",
       "    .dataframe tbody tr th {\n",
       "        vertical-align: top;\n",
       "    }\n",
       "\n",
       "    .dataframe thead th {\n",
       "        text-align: right;\n",
       "    }\n",
       "</style>\n",
       "<table border=\"1\" class=\"dataframe\">\n",
       "  <thead>\n",
       "    <tr style=\"text-align: right;\">\n",
       "      <th></th>\n",
       "      <th>dummy_patient</th>\n",
       "      <th>dummy_len_of_stay</th>\n",
       "    </tr>\n",
       "  </thead>\n",
       "  <tbody>\n",
       "    <tr>\n",
       "      <th>count</th>\n",
       "      <td>10.00000</td>\n",
       "      <td>10.000000</td>\n",
       "    </tr>\n",
       "    <tr>\n",
       "      <th>mean</th>\n",
       "      <td>5.50000</td>\n",
       "      <td>17.700000</td>\n",
       "    </tr>\n",
       "    <tr>\n",
       "      <th>std</th>\n",
       "      <td>3.02765</td>\n",
       "      <td>12.640763</td>\n",
       "    </tr>\n",
       "    <tr>\n",
       "      <th>min</th>\n",
       "      <td>1.00000</td>\n",
       "      <td>4.000000</td>\n",
       "    </tr>\n",
       "    <tr>\n",
       "      <th>25%</th>\n",
       "      <td>3.25000</td>\n",
       "      <td>9.250000</td>\n",
       "    </tr>\n",
       "    <tr>\n",
       "      <th>50%</th>\n",
       "      <td>5.50000</td>\n",
       "      <td>14.000000</td>\n",
       "    </tr>\n",
       "    <tr>\n",
       "      <th>75%</th>\n",
       "      <td>7.75000</td>\n",
       "      <td>22.250000</td>\n",
       "    </tr>\n",
       "    <tr>\n",
       "      <th>max</th>\n",
       "      <td>10.00000</td>\n",
       "      <td>45.000000</td>\n",
       "    </tr>\n",
       "  </tbody>\n",
       "</table>\n",
       "</div>"
      ],
      "text/plain": [
       "       dummy_patient  dummy_len_of_stay\n",
       "count       10.00000          10.000000\n",
       "mean         5.50000          17.700000\n",
       "std          3.02765          12.640763\n",
       "min          1.00000           4.000000\n",
       "25%          3.25000           9.250000\n",
       "50%          5.50000          14.000000\n",
       "75%          7.75000          22.250000\n",
       "max         10.00000          45.000000"
      ]
     },
     "execution_count": 74,
     "metadata": {},
     "output_type": "execute_result"
    }
   ],
   "source": [
    "df_pandas.describe()"
   ]
  },
  {
   "cell_type": "code",
   "execution_count": 75,
   "metadata": {},
   "outputs": [
    {
     "data": {
      "image/png": "[encoded data removed]",
      "text/plain": [
       "<Figure size 640x480 with 1 Axes>"
      ]
     },
     "metadata": {},
     "output_type": "display_data"
    }
   ],
   "source": [
    "df_pandas.set_index('dummy_date_1')[['dummy_len_of_stay']].plot(kind='bar', stacked=True, rot=90);"
   ]
  }
 ],
 "metadata": {
  "kernelspec": {
   "display_name": "Python 3",
   "language": "python",
   "name": "python3"
  },
  "language_info": {
   "codemirror_mode": {
    "name": "ipython",
    "version": 3
   },
   "file_extension": ".py",
   "mimetype": "text/x-python",
   "name": "python",
   "nbconvert_exporter": "python",
   "pygments_lexer": "ipython3",
   "version": "3.8.13"
  },
  "orig_nbformat": 4,
  "vscode": {
   "interpreter": {
    "hash": "9ac03a0a6051494cc606d484d27d20fce22fb7b4d169f583271e11d5ba46a56e"
   }
  }
 },
 "nbformat": 4,
 "nbformat_minor": 2
}
